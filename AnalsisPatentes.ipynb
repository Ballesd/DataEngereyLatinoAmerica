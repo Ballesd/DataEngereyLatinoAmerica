{
 "cells": [
  {
   "cell_type": "code",
   "execution_count": 2,
   "metadata": {},
   "outputs": [],
   "source": [
    "import pandas as pd\n",
    "import numpy as np\n",
    "from matplotlib import pyplot as plt"
   ]
  },
  {
   "cell_type": "code",
   "execution_count": 3,
   "metadata": {},
   "outputs": [
    {
     "data": {
      "text/html": [
       "<div>\n",
       "<style scoped>\n",
       "    .dataframe tbody tr th:only-of-type {\n",
       "        vertical-align: middle;\n",
       "    }\n",
       "\n",
       "    .dataframe tbody tr th {\n",
       "        vertical-align: top;\n",
       "    }\n",
       "\n",
       "    .dataframe thead th {\n",
       "        text-align: right;\n",
       "    }\n",
       "</style>\n",
       "<table border=\"1\" class=\"dataframe\">\n",
       "  <thead>\n",
       "    <tr style=\"text-align: right;\">\n",
       "      <th></th>\n",
       "      <th>Year</th>\n",
       "      <th>Country/area</th>\n",
       "      <th>Sector</th>\n",
       "      <th>Technology</th>\n",
       "      <th>Sub Technology</th>\n",
       "      <th>Number of Patents</th>\n",
       "    </tr>\n",
       "  </thead>\n",
       "  <tbody>\n",
       "    <tr>\n",
       "      <th>0</th>\n",
       "      <td>2000</td>\n",
       "      <td>Algeria</td>\n",
       "      <td>Building</td>\n",
       "      <td>Enabling Technologies</td>\n",
       "      <td>Smart Grids</td>\n",
       "      <td>1</td>\n",
       "    </tr>\n",
       "    <tr>\n",
       "      <th>1</th>\n",
       "      <td>2000</td>\n",
       "      <td>Algeria</td>\n",
       "      <td>Power</td>\n",
       "      <td>Enabling Technologies</td>\n",
       "      <td>Thermal energy storage</td>\n",
       "      <td>1</td>\n",
       "    </tr>\n",
       "    <tr>\n",
       "      <th>2</th>\n",
       "      <td>2000</td>\n",
       "      <td>Algeria</td>\n",
       "      <td>Power</td>\n",
       "      <td>Enabling Technologies</td>\n",
       "      <td>Hydrogen (storage and distribution and applica...</td>\n",
       "      <td>1</td>\n",
       "    </tr>\n",
       "    <tr>\n",
       "      <th>3</th>\n",
       "      <td>2000</td>\n",
       "      <td>Algeria</td>\n",
       "      <td>Power</td>\n",
       "      <td>Hydropower</td>\n",
       "      <td>Hydropower</td>\n",
       "      <td>1</td>\n",
       "    </tr>\n",
       "    <tr>\n",
       "      <th>4</th>\n",
       "      <td>2000</td>\n",
       "      <td>Algeria</td>\n",
       "      <td>Transport</td>\n",
       "      <td>Enabling Technologies</td>\n",
       "      <td>Energy Efficiency</td>\n",
       "      <td>1</td>\n",
       "    </tr>\n",
       "    <tr>\n",
       "      <th>...</th>\n",
       "      <td>...</td>\n",
       "      <td>...</td>\n",
       "      <td>...</td>\n",
       "      <td>...</td>\n",
       "      <td>...</td>\n",
       "      <td>...</td>\n",
       "    </tr>\n",
       "    <tr>\n",
       "      <th>31072</th>\n",
       "      <td>2021</td>\n",
       "      <td>United Kingdom</td>\n",
       "      <td>Power</td>\n",
       "      <td>Enabling Technologies</td>\n",
       "      <td>Batteries</td>\n",
       "      <td>1</td>\n",
       "    </tr>\n",
       "    <tr>\n",
       "      <th>31073</th>\n",
       "      <td>2021</td>\n",
       "      <td>United Kingdom</td>\n",
       "      <td>Power</td>\n",
       "      <td>Hydropower</td>\n",
       "      <td>Hydropower</td>\n",
       "      <td>1</td>\n",
       "    </tr>\n",
       "    <tr>\n",
       "      <th>31074</th>\n",
       "      <td>2021</td>\n",
       "      <td>United Kingdom</td>\n",
       "      <td>Power</td>\n",
       "      <td>Ocean Energy</td>\n",
       "      <td>Ocean Energy</td>\n",
       "      <td>1</td>\n",
       "    </tr>\n",
       "    <tr>\n",
       "      <th>31075</th>\n",
       "      <td>2021</td>\n",
       "      <td>United Kingdom</td>\n",
       "      <td>Power</td>\n",
       "      <td>Solar Energy</td>\n",
       "      <td>Solar Thermal</td>\n",
       "      <td>1</td>\n",
       "    </tr>\n",
       "    <tr>\n",
       "      <th>31076</th>\n",
       "      <td>2021</td>\n",
       "      <td>United Kingdom</td>\n",
       "      <td>Power</td>\n",
       "      <td>Wind Energy</td>\n",
       "      <td>Wind Energy</td>\n",
       "      <td>2</td>\n",
       "    </tr>\n",
       "  </tbody>\n",
       "</table>\n",
       "<p>31077 rows × 6 columns</p>\n",
       "</div>"
      ],
      "text/plain": [
       "       Year    Country/area     Sector             Technology  \\\n",
       "0      2000         Algeria   Building  Enabling Technologies   \n",
       "1      2000         Algeria      Power  Enabling Technologies   \n",
       "2      2000         Algeria      Power  Enabling Technologies   \n",
       "3      2000         Algeria      Power             Hydropower   \n",
       "4      2000         Algeria  Transport  Enabling Technologies   \n",
       "...     ...             ...        ...                    ...   \n",
       "31072  2021  United Kingdom      Power  Enabling Technologies   \n",
       "31073  2021  United Kingdom      Power             Hydropower   \n",
       "31074  2021  United Kingdom      Power           Ocean Energy   \n",
       "31075  2021  United Kingdom      Power           Solar Energy   \n",
       "31076  2021  United Kingdom      Power            Wind Energy   \n",
       "\n",
       "                                          Sub Technology  Number of Patents  \n",
       "0                                            Smart Grids                  1  \n",
       "1                                 Thermal energy storage                  1  \n",
       "2      Hydrogen (storage and distribution and applica...                  1  \n",
       "3                                             Hydropower                  1  \n",
       "4                                      Energy Efficiency                  1  \n",
       "...                                                  ...                ...  \n",
       "31072                                          Batteries                  1  \n",
       "31073                                         Hydropower                  1  \n",
       "31074                                       Ocean Energy                  1  \n",
       "31075                                      Solar Thermal                  1  \n",
       "31076                                        Wind Energy                  2  \n",
       "\n",
       "[31077 rows x 6 columns]"
      ]
     },
     "execution_count": 3,
     "metadata": {},
     "output_type": "execute_result"
    }
   ],
   "source": [
    "df = pd.read_csv(\"Patentes/PatentesEnNuevasEnergía.csv\", sep = \",\")\n",
    "df"
   ]
  },
  {
   "cell_type": "code",
   "execution_count": 4,
   "metadata": {},
   "outputs": [],
   "source": [
    "paises = ['Mexico','Cuba','Guatemala','Honduras','El Salvador','Nicaragua','Costa Rica','Dominican Republic',\n",
    "'Haiti','Panama','Ecuador','Colombia','Venezuela','Peru','Brazil','Bolivia','Chile','Paraguay','Argentina','Uruguay']"
   ]
  },
  {
   "cell_type": "code",
   "execution_count": 7,
   "metadata": {},
   "outputs": [
    {
     "data": {
      "text/plain": [
       "3853"
      ]
     },
     "execution_count": 7,
     "metadata": {},
     "output_type": "execute_result"
    }
   ],
   "source": [
    "cantidad = 0  #Obtenemos data frame con los paises de latino america \n",
    "CanPatentes = {} # la cantidad me sirve para saber si añade todos las filas\n",
    "latam = pd.DataFrame ({\n",
    "            'index': [],\n",
    "            'Year': [],\n",
    "            'Country/area': [],\n",
    "            'Sector':[],\n",
    "            'Technology':[],\n",
    "            'Sub Technology': [],\n",
    "            'Number of Patents': []\n",
    "        },columns = ['index', 'Year', 'Country/area','Sector','Technology','Sub Technology','Number of Patents'])\n",
    "for i in paises:    \n",
    "    pais = df[df[\"Country/area\"] == i]\n",
    "    CanPatentes[i] = pais['Number of Patents'].sum()  #Sumamos las patentes \n",
    "    cantidad += pais.shape[0] #sabemos la cantidad de valores que hay en esa columna\n",
    "    latam = pd.concat([latam, pais]) #Concatenamos el dataframe de cadas pais \n",
    "\n",
    "cantidad #Probamos la cantidad concatenada "
   ]
  },
  {
   "cell_type": "code",
   "execution_count": 8,
   "metadata": {},
   "outputs": [
    {
     "data": {
      "text/plain": [
       "{'Mexico': 11631,\n",
       " 'Cuba': 202,\n",
       " 'Guatemala': 76,\n",
       " 'Honduras': 13,\n",
       " 'El Salvador': 21,\n",
       " 'Nicaragua': 64,\n",
       " 'Costa Rica': 205,\n",
       " 'Dominican Republic': 89,\n",
       " 'Haiti': 0,\n",
       " 'Panama': 18,\n",
       " 'Ecuador': 237,\n",
       " 'Colombia': 846,\n",
       " 'Venezuela': 0,\n",
       " 'Peru': 775,\n",
       " 'Brazil': 24415,\n",
       " 'Bolivia': 0,\n",
       " 'Chile': 2810,\n",
       " 'Paraguay': 0,\n",
       " 'Argentina': 2726,\n",
       " 'Uruguay': 267}"
      ]
     },
     "execution_count": 8,
     "metadata": {},
     "output_type": "execute_result"
    }
   ],
   "source": [
    "CanPatentes"
   ]
  },
  {
   "cell_type": "code",
   "execution_count": 14,
   "metadata": {},
   "outputs": [
    {
     "data": {
      "text/html": [
       "<div>\n",
       "<style scoped>\n",
       "    .dataframe tbody tr th:only-of-type {\n",
       "        vertical-align: middle;\n",
       "    }\n",
       "\n",
       "    .dataframe tbody tr th {\n",
       "        vertical-align: top;\n",
       "    }\n",
       "\n",
       "    .dataframe thead th {\n",
       "        text-align: right;\n",
       "    }\n",
       "</style>\n",
       "<table border=\"1\" class=\"dataframe\">\n",
       "  <thead>\n",
       "    <tr style=\"text-align: right;\">\n",
       "      <th></th>\n",
       "      <th>Cantidad</th>\n",
       "    </tr>\n",
       "  </thead>\n",
       "  <tbody>\n",
       "    <tr>\n",
       "      <th>Mexico</th>\n",
       "      <td>11631</td>\n",
       "    </tr>\n",
       "    <tr>\n",
       "      <th>Cuba</th>\n",
       "      <td>202</td>\n",
       "    </tr>\n",
       "    <tr>\n",
       "      <th>Guatemala</th>\n",
       "      <td>76</td>\n",
       "    </tr>\n",
       "    <tr>\n",
       "      <th>Honduras</th>\n",
       "      <td>13</td>\n",
       "    </tr>\n",
       "    <tr>\n",
       "      <th>El Salvador</th>\n",
       "      <td>21</td>\n",
       "    </tr>\n",
       "    <tr>\n",
       "      <th>Nicaragua</th>\n",
       "      <td>64</td>\n",
       "    </tr>\n",
       "    <tr>\n",
       "      <th>Costa Rica</th>\n",
       "      <td>205</td>\n",
       "    </tr>\n",
       "    <tr>\n",
       "      <th>Dominican Republic</th>\n",
       "      <td>89</td>\n",
       "    </tr>\n",
       "    <tr>\n",
       "      <th>Haiti</th>\n",
       "      <td>0</td>\n",
       "    </tr>\n",
       "    <tr>\n",
       "      <th>Panama</th>\n",
       "      <td>18</td>\n",
       "    </tr>\n",
       "    <tr>\n",
       "      <th>Ecuador</th>\n",
       "      <td>237</td>\n",
       "    </tr>\n",
       "    <tr>\n",
       "      <th>Colombia</th>\n",
       "      <td>846</td>\n",
       "    </tr>\n",
       "    <tr>\n",
       "      <th>Venezuela</th>\n",
       "      <td>0</td>\n",
       "    </tr>\n",
       "    <tr>\n",
       "      <th>Peru</th>\n",
       "      <td>775</td>\n",
       "    </tr>\n",
       "    <tr>\n",
       "      <th>Brazil</th>\n",
       "      <td>24415</td>\n",
       "    </tr>\n",
       "    <tr>\n",
       "      <th>Bolivia</th>\n",
       "      <td>0</td>\n",
       "    </tr>\n",
       "    <tr>\n",
       "      <th>Chile</th>\n",
       "      <td>2810</td>\n",
       "    </tr>\n",
       "    <tr>\n",
       "      <th>Paraguay</th>\n",
       "      <td>0</td>\n",
       "    </tr>\n",
       "    <tr>\n",
       "      <th>Argentina</th>\n",
       "      <td>2726</td>\n",
       "    </tr>\n",
       "    <tr>\n",
       "      <th>Uruguay</th>\n",
       "      <td>267</td>\n",
       "    </tr>\n",
       "  </tbody>\n",
       "</table>\n",
       "</div>"
      ],
      "text/plain": [
       "                    Cantidad\n",
       "Mexico                 11631\n",
       "Cuba                     202\n",
       "Guatemala                 76\n",
       "Honduras                  13\n",
       "El Salvador               21\n",
       "Nicaragua                 64\n",
       "Costa Rica               205\n",
       "Dominican Republic        89\n",
       "Haiti                      0\n",
       "Panama                    18\n",
       "Ecuador                  237\n",
       "Colombia                 846\n",
       "Venezuela                  0\n",
       "Peru                     775\n",
       "Brazil                 24415\n",
       "Bolivia                    0\n",
       "Chile                   2810\n",
       "Paraguay                   0\n",
       "Argentina               2726\n",
       "Uruguay                  267"
      ]
     },
     "execution_count": 14,
     "metadata": {},
     "output_type": "execute_result"
    }
   ],
   "source": [
    "#Lo transformamamos en un dataframe \n",
    "DFLationoAmerica = pd.DataFrame.from_dict(CanPatentes, orient='index').rename(columns={0:'Cantidad'})\n",
    "\n",
    "DFLationoAmerica"
   ]
  },
  {
   "cell_type": "code",
   "execution_count": 15,
   "metadata": {},
   "outputs": [
    {
     "data": {
      "text/plain": [
       "<AxesSubplot:>"
      ]
     },
     "execution_count": 15,
     "metadata": {},
     "output_type": "execute_result"
    },
    {
     "data": {
      "image/png": "[encoded data removed]",
      "text/plain": [
       "<Figure size 432x288 with 1 Axes>"
      ]
     },
     "metadata": {
      "needs_background": "light"
     },
     "output_type": "display_data"
    }
   ],
   "source": [
    "#Hacemos un histograma con las cantidades de pantentes en paises de latino america\n",
    "DFLationoAmerica.plot(kind = 'bar')"
   ]
  },
  {
   "cell_type": "markdown",
   "metadata": {},
   "source": [
    "## Borramos Brazil y Mexico"
   ]
  },
  {
   "cell_type": "code",
   "execution_count": 16,
   "metadata": {},
   "outputs": [
    {
     "data": {
      "text/plain": [
       "{'Cuba': 202,\n",
       " 'Guatemala': 76,\n",
       " 'Honduras': 13,\n",
       " 'El Salvador': 21,\n",
       " 'Nicaragua': 64,\n",
       " 'Costa Rica': 205,\n",
       " 'Dominican Republic': 89,\n",
       " 'Haiti': 0,\n",
       " 'Panama': 18,\n",
       " 'Ecuador': 237,\n",
       " 'Colombia': 846,\n",
       " 'Venezuela': 0,\n",
       " 'Peru': 775,\n",
       " 'Bolivia': 0,\n",
       " 'Chile': 2810,\n",
       " 'Paraguay': 0,\n",
       " 'Argentina': 2726,\n",
       " 'Uruguay': 267}"
      ]
     },
     "execution_count": 16,
     "metadata": {},
     "output_type": "execute_result"
    }
   ],
   "source": [
    "del CanPatentes['Brazil']\n",
    "del CanPatentes['Mexico']\n",
    "CanPatentes"
   ]
  },
  {
   "cell_type": "code",
   "execution_count": 17,
   "metadata": {},
   "outputs": [
    {
     "data": {
      "text/plain": [
       "<AxesSubplot:>"
      ]
     },
     "execution_count": 17,
     "metadata": {},
     "output_type": "execute_result"
    },
    {
     "data": {
      "image/png": "[encoded data removed]",
      "text/plain": [
       "<Figure size 432x288 with 1 Axes>"
      ]
     },
     "metadata": {
      "needs_background": "light"
     },
     "output_type": "display_data"
    }
   ],
   "source": [
    "DFLationoAmericaSinBraMe = pd.DataFrame.from_dict(CanPatentes, orient='index').rename(columns={0:'Cantidad'})\n",
    "DFLationoAmericaSinBraMe.plot(kind = 'bar')"
   ]
  }
 ],
 "metadata": {
  "kernelspec": {
   "display_name": "Python 3.10.4 64-bit",
   "language": "python",
   "name": "python3"
  },
  "language_info": {
   "codemirror_mode": {
    "name": "ipython",
    "version": 3
   },
   "file_extension": ".py",
   "mimetype": "text/x-python",
   "name": "python",
   "nbconvert_exporter": "python",
   "pygments_lexer": "ipython3",
   "version": "3.10.4"
  },
  "orig_nbformat": 4,
  "vscode": {
   "interpreter": {
    "hash": "e03d678e9b3222767ebfca984973ad4ba739e8eb97d0dc2d8c62e0538af740dd"
   }
  }
 },
 "nbformat": 4,
 "nbformat_minor": 2
}
